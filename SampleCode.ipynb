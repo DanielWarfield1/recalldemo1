{
  "nbformat": 4,
  "nbformat_minor": 0,
  "metadata": {
    "colab": {
      "provenance": [],
      "authorship_tag": "ABX9TyNzssYaD2p/TNoW2lg2/9gv",
      "include_colab_link": true
    },
    "kernelspec": {
      "name": "python3",
      "display_name": "Python 3"
    },
    "language_info": {
      "name": "python"
    }
  },
  "cells": [
    {
      "cell_type": "markdown",
      "metadata": {
        "id": "view-in-github",
        "colab_type": "text"
      },
      "source": [
        "<a href=\"https://colab.research.google.com/github/DanielWarfield1/recalldemo1/blob/main/SampleCode.ipynb\" target=\"_parent\"><img src=\"https://colab.research.google.com/assets/colab-badge.svg\" alt=\"Open In Colab\"/></a>"
      ]
    },
    {
      "cell_type": "markdown",
      "source": [
        "# Making a Recall bot join, record, and getting the transcript\n",
        "\n",
        "based on https://docs.recall.ai/docs/meeting-caption-transcription\n",
        "\n",
        "first, join an instant meeting: https://meet.google.com/landing"
      ],
      "metadata": {
        "id": "5hGVFnmg_Ta0"
      }
    },
    {
      "cell_type": "code",
      "source": [
        "from google.colab import userdata\n",
        "import requests\n",
        "import json\n",
        "\n",
        "RECALL_API_KEY = userdata.get('recall_api_key')"
      ],
      "metadata": {
        "id": "VAATJLS5_C3Q"
      },
      "execution_count": null,
      "outputs": []
    },
    {
      "cell_type": "code",
      "source": [
        "meeting_url = \"https://meet.google.com/ams-vsdo-ewq\""
      ],
      "metadata": {
        "id": "jNFShrgv_M9T"
      },
      "execution_count": null,
      "outputs": []
    },
    {
      "cell_type": "markdown",
      "source": [
        "## Creating a Bot"
      ],
      "metadata": {
        "id": "SZXwhrEPDeRN"
      }
    },
    {
      "cell_type": "code",
      "source": [
        "def start_recall_bot(api_key, meeting_url, region='us-west-2'):\n",
        "\n",
        "    url = f\"https://{region}.recall.ai/api/v1/bot/\"\n",
        "\n",
        "    payload = {\n",
        "        \"meeting_url\": meeting_url,\n",
        "        \"bot_name\": \"demoBot\",\n",
        "        \"recording_config\": {\"transcript\": { \"provider\": {\"meeting_captions\":{}}}}\n",
        "    }\n",
        "\n",
        "    headers = {\n",
        "        \"accept\": \"application/json\",\n",
        "        \"content-type\": \"application/json\",\n",
        "        \"Authorization\": api_key\n",
        "    }\n",
        "\n",
        "    return requests.post(url, json=payload, headers=headers)\n",
        "\n",
        "response = start_recall_bot(RECALL_API_KEY, meeting_url)\n",
        "bot_id = json.loads(response.text)['id']\n",
        "print(bot_id)"
      ],
      "metadata": {
        "id": "a3FvY0VoAMZw"
      },
      "execution_count": null,
      "outputs": []
    },
    {
      "cell_type": "markdown",
      "source": [
        "## Getting Transcript of conversation"
      ],
      "metadata": {
        "id": "llPMyI0-DkR7"
      }
    },
    {
      "cell_type": "code",
      "source": [
        "import requests\n",
        "\n",
        "def get_transcript(api_key, bot_id, region='us-west-2'):\n",
        "    url = f\"https://{region}.recall.ai/api/v1/bot/{bot_id}/transcript/\"\n",
        "\n",
        "    headers = {\n",
        "        \"accept\": \"application/json\",\n",
        "        \"Authorization\": api_key\n",
        "    }\n",
        "\n",
        "    return requests.get(url, headers=headers)\n",
        "\n",
        "response = get_transcript(RECALL_API_KEY, bot_id)\n",
        "transcript = json.loads(response.text)\n",
        "print(transcript)"
      ],
      "metadata": {
        "id": "_9EkQEli_-3W",
        "colab": {
          "base_uri": "https://localhost:8080/"
        },
        "outputId": "7cfad115-c332-4291-f706-ff953b8bc517"
      },
      "execution_count": null,
      "outputs": [
        {
          "output_type": "stream",
          "name": "stdout",
          "text": [
            "[{'words': [{'text': \"Hello, my name is Daniel Warfield and I'm talking to the Bot.\", 'start_timestamp': 0.0, 'end_timestamp': 2.6631839275360107, 'language': None, 'confidence': None}], 'speaker': 'Daniel Warfield', 'speaker_id': 100, 'language': 'en-us'}, {'words': [{'text': 'Maybe.', 'start_timestamp': 9.075255393981934, 'end_timestamp': 9.728450775146484, 'language': None, 'confidence': None}], 'speaker': 'Daniel Warfield', 'speaker_id': 100, 'language': 'en-us'}, {'words': [{'text': 'Oh, thank God. Okay.', 'start_timestamp': 18.68805503845215, 'end_timestamp': 20.342729568481445, 'language': None, 'confidence': None}], 'speaker': 'Daniel Warfield', 'speaker_id': 100, 'language': 'en-us'}, {'words': [{'text': 'Cool. The money in the email.', 'start_timestamp': 29.976699829101562, 'end_timestamp': 32.7333869934082, 'language': None, 'confidence': None}], 'speaker': 'Daniel Warfield', 'speaker_id': 100, 'language': 'en-us'}, {'words': [{'text': 'Beautiful.', 'start_timestamp': 33.87086486816406, 'end_timestamp': 34.62493133544922, 'language': None, 'confidence': None}], 'speaker': 'Daniel Warfield', 'speaker_id': 100, 'language': 'en-us'}, {'words': [{'text': 'Okay.', 'start_timestamp': 36.956729888916016, 'end_timestamp': 37.58275604248047, 'language': None, 'confidence': None}], 'speaker': 'Daniel Warfield', 'speaker_id': 100, 'language': 'en-us'}, {'words': [{'text': 'Yeah.', 'start_timestamp': 133.69735717773438, 'end_timestamp': 138.84681701660156, 'language': None, 'confidence': None}], 'speaker': 'Daniel Warfield', 'speaker_id': 100, 'language': 'en-us'}, {'words': [{'text': 'All right.', 'start_timestamp': 141.4778594970703, 'end_timestamp': 142.4373016357422, 'language': None, 'confidence': None}], 'speaker': 'Daniel Warfield', 'speaker_id': 100, 'language': 'en-us'}]\n"
          ]
        }
      ]
    },
    {
      "cell_type": "code",
      "source": [
        "transcript"
      ],
      "metadata": {
        "colab": {
          "base_uri": "https://localhost:8080/"
        },
        "id": "wRiDJ4qNitrY",
        "outputId": "d63fe2ab-ee90-4480-8a7e-239b0e11253c"
      },
      "execution_count": null,
      "outputs": [
        {
          "output_type": "execute_result",
          "data": {
            "text/plain": [
              "[{'words': [{'text': \"Hello, my name is Daniel Warfield and I'm talking to the Bot.\",\n",
              "    'start_timestamp': 0.0,\n",
              "    'end_timestamp': 2.6631839275360107,\n",
              "    'language': None,\n",
              "    'confidence': None}],\n",
              "  'speaker': 'Daniel Warfield',\n",
              "  'speaker_id': 100,\n",
              "  'language': 'en-us'},\n",
              " {'words': [{'text': 'Maybe.',\n",
              "    'start_timestamp': 9.075255393981934,\n",
              "    'end_timestamp': 9.728450775146484,\n",
              "    'language': None,\n",
              "    'confidence': None}],\n",
              "  'speaker': 'Daniel Warfield',\n",
              "  'speaker_id': 100,\n",
              "  'language': 'en-us'},\n",
              " {'words': [{'text': 'Oh, thank God. Okay.',\n",
              "    'start_timestamp': 18.68805503845215,\n",
              "    'end_timestamp': 20.342729568481445,\n",
              "    'language': None,\n",
              "    'confidence': None}],\n",
              "  'speaker': 'Daniel Warfield',\n",
              "  'speaker_id': 100,\n",
              "  'language': 'en-us'},\n",
              " {'words': [{'text': 'Cool. The money in the email.',\n",
              "    'start_timestamp': 29.976699829101562,\n",
              "    'end_timestamp': 32.7333869934082,\n",
              "    'language': None,\n",
              "    'confidence': None}],\n",
              "  'speaker': 'Daniel Warfield',\n",
              "  'speaker_id': 100,\n",
              "  'language': 'en-us'},\n",
              " {'words': [{'text': 'Beautiful.',\n",
              "    'start_timestamp': 33.87086486816406,\n",
              "    'end_timestamp': 34.62493133544922,\n",
              "    'language': None,\n",
              "    'confidence': None}],\n",
              "  'speaker': 'Daniel Warfield',\n",
              "  'speaker_id': 100,\n",
              "  'language': 'en-us'},\n",
              " {'words': [{'text': 'Okay.',\n",
              "    'start_timestamp': 36.956729888916016,\n",
              "    'end_timestamp': 37.58275604248047,\n",
              "    'language': None,\n",
              "    'confidence': None}],\n",
              "  'speaker': 'Daniel Warfield',\n",
              "  'speaker_id': 100,\n",
              "  'language': 'en-us'},\n",
              " {'words': [{'text': 'Yeah.',\n",
              "    'start_timestamp': 133.69735717773438,\n",
              "    'end_timestamp': 138.84681701660156,\n",
              "    'language': None,\n",
              "    'confidence': None}],\n",
              "  'speaker': 'Daniel Warfield',\n",
              "  'speaker_id': 100,\n",
              "  'language': 'en-us'},\n",
              " {'words': [{'text': 'All right.',\n",
              "    'start_timestamp': 141.4778594970703,\n",
              "    'end_timestamp': 142.4373016357422,\n",
              "    'language': None,\n",
              "    'confidence': None}],\n",
              "  'speaker': 'Daniel Warfield',\n",
              "  'speaker_id': 100,\n",
              "  'language': 'en-us'}]"
            ]
          },
          "metadata": {},
          "execution_count": 48
        }
      ]
    },
    {
      "cell_type": "markdown",
      "source": [
        "# Unpacking into a Conversational Transcript"
      ],
      "metadata": {
        "id": "aBRUJwuNLImN"
      }
    },
    {
      "cell_type": "code",
      "source": [
        "current_speaker = None\n",
        "current_language = None\n",
        "\n",
        "\n",
        "for fragment in transcript:\n",
        "\n",
        "    #getting a particular piece of the transcript\n",
        "    fragment_speaker = fragment['speaker']\n",
        "    fragment_language = fragment['language']\n",
        "\n",
        "    #printing name and language, if changed\n",
        "    if (fragment_speaker != current_speaker or\n",
        "        fragment_language != current_language):\n",
        "\n",
        "        current_speaker = fragment_speaker\n",
        "        current_language = fragment_language\n",
        "\n",
        "        print('---------------------')\n",
        "        print(f'{current_speaker} ({current_language})')\n",
        "        print('---------------------')\n",
        "\n",
        "    #printing text\n",
        "    print(fragment['words'][0]['text'])"
      ],
      "metadata": {
        "colab": {
          "base_uri": "https://localhost:8080/"
        },
        "id": "Y_yrLJ1VLIb8",
        "outputId": "c676153a-e160-45a0-c891-a0a5b9046416"
      },
      "execution_count": null,
      "outputs": [
        {
          "output_type": "stream",
          "name": "stdout",
          "text": [
            "---------------------\n",
            "Daniel Warfield (en-us)\n",
            "---------------------\n",
            "Hello, my name is Daniel Warfield and I'm talking to the Bot.\n",
            "Maybe.\n",
            "Oh, thank God. Okay.\n",
            "Cool. The money in the email.\n",
            "Beautiful.\n",
            "Okay.\n",
            "Yeah.\n",
            "All right.\n"
          ]
        }
      ]
    },
    {
      "cell_type": "markdown",
      "source": [
        "# Checking if Meeting is Done"
      ],
      "metadata": {
        "id": "Bx6g_rFLJTdc"
      }
    },
    {
      "cell_type": "code",
      "source": [
        "def get_bot_info(api_key, bot_id, region='us-west-2'):\n",
        "\n",
        "    url = f\"https://us-west-2.recall.ai/api/v1/bot/{bot_id}/\"\n",
        "\n",
        "    headers = {\n",
        "        \"accept\": \"application/json\",\n",
        "        \"Authorization\": api_key\n",
        "    }\n",
        "\n",
        "    return requests.get(url, headers=headers)\n",
        "\n",
        "response = get_bot_info(RECALL_API_KEY, bot_id)\n",
        "\n",
        "# Should be 'done' if meeting is done\n",
        "print(json.loads(response.text)['status_changes'][-1]['code'])"
      ],
      "metadata": {
        "id": "7C2ucMqEI4dA"
      },
      "execution_count": null,
      "outputs": []
    },
    {
      "cell_type": "code",
      "source": [
        "# Should be 'done' if meeting is done\n",
        "json.loads(response.text)['status_changes'][-1]['code']"
      ],
      "metadata": {
        "colab": {
          "base_uri": "https://localhost:8080/",
          "height": 37
        },
        "id": "3fRkNm7LJp5Z",
        "outputId": "39845093-cfae-4152-ba18-6b75a203b51a"
      },
      "execution_count": null,
      "outputs": [
        {
          "output_type": "execute_result",
          "data": {
            "text/plain": [
              "'done'"
            ],
            "application/vnd.google.colaboratory.intrinsic+json": {
              "type": "string"
            }
          },
          "metadata": {},
          "execution_count": 32
        }
      ]
    }
  ]
}